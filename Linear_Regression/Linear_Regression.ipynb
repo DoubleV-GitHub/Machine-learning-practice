{
 "cells": [
  {
   "cell_type": "markdown",
   "metadata": {},
   "source": [
    "# 线性回归原理及实践\n",
    "线性回归通过一个线性模型来适配观测数据，这个线性模型是在特征和响应之间构建一个关系。目的是预测当前被观察的对象的值。线性回归的实现过程主要包括建立线性模型和选择优化方法求解参数两部分。\n",
    "### 1. 建立线性模型\n",
    "想要一个成功的回归分析，在建立线性模型之前，确认以下信息很重要：  \n",
    "**线性：**特征值与和预测值是线性相关  \n",
    "**不含多重共线性：**数据有极少或没有多重共线性，当特征不是相互独立时，会引发多重共线性。  \n",
    "**多元正态分布：**多元回归残差符合正态分布。  \n",
    "**虚拟变量：** 当遇到数据是非数值数据类型时，使用分类数据是一个非常有效的方法。分据数据，是指反映事物类别的数据，是离散数据，其数值个数有限且值之间无序。比如，按性别分为男，女两类。在一个回归模中，这些分类值可以用虚拟变量来表示，变量通常取如1或0这样的值，来表示肯定或否定类型。  \n",
    "**虚拟变量陷进：**虚拟变量陷进是指两个及以上变量之间高度相关的情形。简而言之，就是存在一个能够被其他变量预测出的变量，举一个存在重复类别的直观例子：对于男性类别，该类别也可以通过女性类别来定义，女性值为0时，表示男性，值为1时表示女性，反之亦然。解决虚拟变量陷进的方法是，类别变量数减去1，假如有m个类别，那么在模型构建时取(m-1)个虚拟变量，减去的那个变量可以看作是参考值。   \n",
    "给定训练集: $X_{train} = (x^{(1)},x^{(2)},x^{(3)},...,x^{(i)})$，对于单个输入$x^{(i)}=(x_{1}^{(i)},x_{2}^{(i)},...,x_{n}^{(i)})$, 可得到线性模型为：\n",
    "$$\\hat{y}^{(i)} = w^T x^{(i)} + b = w_{1}x_{1}^{(i)}+w_{2}x_{2}^{(i)}+...+w_{n-1}x_{n-1}^{(i)}+w_{n}x_{n}^{(i)}+b\\tag{1}$$\n",
    "对应的损失函数$ \\mathcal{L}(\\hat{y}^{(i)}, y^{(i)}) $为：\n",
    "$$ \\mathcal{L}(\\hat{y}^{(i)}, y^{(i)}) = \\frac{1}{2} (\\hat{y}^{(i)}-y^{(i)})^{2}\\tag{2} $$\n",
    "然后通过对所有训练样例求和来计算代价函数：\n",
    "$$ J = \\frac{1}{2m} \\sum_{i=1}^m \\mathcal{L}(\\hat{y}^{(i)}, y^{(i)})\\tag{3}$$\n",
    "### 2. 选择优化方法\n",
    "计算出代价函数后，需要选择优化方法来最小化代价函数，以得到合适的参数w和b。线性回归常用的优化方法为梯度下降法和最小二乘法。\n",
    "#### 2.1 梯度下降法 \n",
    "梯度下降法的过程为：首先执行前向传播和反向传播，然后根据反向传播得到的各个参数的偏导数，进行参数的更新。  \n",
    "**前向传播**  \n",
    "对于输入$X$，线性回归的预测值为：\n",
    "$$\\hat{Y} = w^T X + b = (\\hat{y}^{(1)}, \\hat{y}^{(2)}, ..., \\hat{y}^{(m-1)}, \\hat{y}^{(m)})\\tag{4}$$\n",
    "通过已知的训练数据与得到的预测值，可得到代价函数：\n",
    "$$ J = \\frac{1}{2m} \\sum_{i=1}^m (\\hat{y}^{(i)}-y^{(i)})^{2}\\tag{5}$$\n",
    "**反向传播**\n",
    "$$ dW = \\frac{\\partial J}{\\partial W} = \\frac{1}{m}X(\\hat{Y}-Y)^T\\tag{6}$$\n",
    "$$ db = \\frac{\\partial J}{\\partial b} = \\frac{1}{m} \\sum_{i=1}^m (\\hat{y}^{(i)}-y^{(i)})\\tag{7}$$\n",
    "**更新参数**\n",
    "$$ w = w - \\alpha*dW\\tag{8}$$\n",
    "$$ b = b - \\alpha*db\\tag{9}$$\n",
    "其中，$\\alpha$为学习速率。\n",
    "#### 2.2 最小二乘法\n",
    "最小二乘法是一种数学优化技术。它通过最小化误差的平方和寻找数据的最佳函数匹配。利用最小二乘法可以简便地求得未知的数据，并使得这些求得的数据与实际数据之间误差的平方和为最小。\n",
    "对于输入$X$，$\\hat{Y} = w^T X + b$可转换为：\n",
    "$$ W = \\begin{bmatrix}w \\\\b \\end{bmatrix}, \\ X = \\begin{bmatrix}X \\\\1 \\end{bmatrix} \\tag{10}$$\n",
    "得到转换后的模型为：\n",
    "$$\\hat{Y} = W^T X \\tag{11}$$\n",
    "对应的损失函数：\n",
    "$$ J = \\frac{1}{2m} \\sum_{i=1}^m (\\hat{y}^{(i)}-y^{(i)})^{2} = \\frac{1}{2m} (\\hat{Y}-Y)^{T}(\\hat{Y}-Y) \\tag{12}$$\n",
    "求出$dW$，并令$dW=0$，得到：\n",
    "$$ dW = \\frac{\\partial J}{\\partial W} = \\frac{1}{m}X(\\hat{Y}-Y)^T = \\frac{1}{m}(XX^{T}W - XY) = 0 \\tag{13}$$\n",
    "求解得：\n",
    "$$ W = (XX^{T})^{-1}XY \\tag{14}$$\n",
    "由公式(14)可知，线性回归可用最小二乘法求解参数的条件是$(XX^{T})$可逆，即矩阵$X$满秩。"
   ]
  },
  {
   "cell_type": "markdown",
   "metadata": {},
   "source": [
    "### 学习目标\n",
    "- 构建学习算法的通用框架，主要包括：\n",
    "  - 数据预处理\n",
    "  - 初始化参数\n",
    "  - 计算代价函数及其梯度\n",
    "  - 使用优化算法（最小二乘法，梯度下降法）\n",
    "- 构建简单线性回归模型分析数据\n",
    "- 构建多元线性回归模型分析数据"
   ]
  },
  {
   "cell_type": "markdown",
   "metadata": {},
   "source": [
    "## 构建简单线性回归模型分析数据\n",
    "### 导入库"
   ]
  },
  {
   "cell_type": "code",
   "execution_count": 1,
   "metadata": {},
   "outputs": [
    {
     "name": "stderr",
     "output_type": "stream",
     "text": [
      "E:\\ruanjian\\lib\\site-packages\\sklearn\\cross_validation.py:41: DeprecationWarning: This module was deprecated in version 0.18 in favor of the model_selection module into which all the refactored classes and functions are moved. Also note that the interface of the new CV iterators are different from that of this module. This module will be removed in 0.20.\n",
      "  \"This module will be removed in 0.20.\", DeprecationWarning)\n"
     ]
    }
   ],
   "source": [
    "import numpy as np\n",
    "import pandas as pd\n",
    "import matplotlib.pyplot as plt\n",
    "from sklearn.cross_validation import train_test_split\n",
    "\n",
    "%matplotlib inline"
   ]
  },
  {
   "cell_type": "markdown",
   "metadata": {},
   "source": [
    "### 导入数据集\n",
    "**数据集介绍：**  \n",
    "该数据集共25个数据项，特征为Hours(时长)，要预测的值为Scores(分数)。  \n",
    "**查看数据集前5行**"
   ]
  },
  {
   "cell_type": "code",
   "execution_count": 2,
   "metadata": {},
   "outputs": [
    {
     "data": {
      "text/html": [
       "<div>\n",
       "<style scoped>\n",
       "    .dataframe tbody tr th:only-of-type {\n",
       "        vertical-align: middle;\n",
       "    }\n",
       "\n",
       "    .dataframe tbody tr th {\n",
       "        vertical-align: top;\n",
       "    }\n",
       "\n",
       "    .dataframe thead th {\n",
       "        text-align: right;\n",
       "    }\n",
       "</style>\n",
       "<table border=\"1\" class=\"dataframe\">\n",
       "  <thead>\n",
       "    <tr style=\"text-align: right;\">\n",
       "      <th></th>\n",
       "      <th>Hours</th>\n",
       "      <th>Scores</th>\n",
       "    </tr>\n",
       "  </thead>\n",
       "  <tbody>\n",
       "    <tr>\n",
       "      <th>0</th>\n",
       "      <td>2.5</td>\n",
       "      <td>21</td>\n",
       "    </tr>\n",
       "    <tr>\n",
       "      <th>1</th>\n",
       "      <td>5.1</td>\n",
       "      <td>47</td>\n",
       "    </tr>\n",
       "    <tr>\n",
       "      <th>2</th>\n",
       "      <td>3.2</td>\n",
       "      <td>27</td>\n",
       "    </tr>\n",
       "    <tr>\n",
       "      <th>3</th>\n",
       "      <td>8.5</td>\n",
       "      <td>75</td>\n",
       "    </tr>\n",
       "    <tr>\n",
       "      <th>4</th>\n",
       "      <td>3.5</td>\n",
       "      <td>30</td>\n",
       "    </tr>\n",
       "  </tbody>\n",
       "</table>\n",
       "</div>"
      ],
      "text/plain": [
       "   Hours  Scores\n",
       "0    2.5      21\n",
       "1    5.1      47\n",
       "2    3.2      27\n",
       "3    8.5      75\n",
       "4    3.5      30"
      ]
     },
     "execution_count": 2,
     "metadata": {},
     "output_type": "execute_result"
    }
   ],
   "source": [
    "dataset = pd.read_csv('datasets/studentscores.csv')\n",
    "dataset.head()"
   ]
  },
  {
   "cell_type": "code",
   "execution_count": 3,
   "metadata": {},
   "outputs": [],
   "source": [
    "def load_dataset():\n",
    "    data = np.loadtxt(\"datasets/studentscores.csv\", dtype=np.str, delimiter=\",\")\n",
    "    X_train = data[1:,:1].astype(np.float)\n",
    "    y_train = data[1:,-1].astype(np.float)\n",
    "    return X_train, y_train"
   ]
  },
  {
   "cell_type": "code",
   "execution_count": 4,
   "metadata": {},
   "outputs": [],
   "source": [
    "X_train, y_train= load_dataset()"
   ]
  },
  {
   "cell_type": "markdown",
   "metadata": {},
   "source": [
    "### 拆分数据集为训练集和测试集"
   ]
  },
  {
   "cell_type": "code",
   "execution_count": 5,
   "metadata": {},
   "outputs": [],
   "source": [
    "X_train, X_test, y_train, y_test = train_test_split( X_train, y_train, test_size = 1/4, random_state = 0)"
   ]
  },
  {
   "cell_type": "markdown",
   "metadata": {},
   "source": [
    "### 数据集矢量化"
   ]
  },
  {
   "cell_type": "code",
   "execution_count": 6,
   "metadata": {},
   "outputs": [],
   "source": [
    "X_train, y_train = X_train.T.reshape(1,-1), y_train.T.reshape(1,-1)\n",
    "X_test, y_test = X_test.T.reshape(1,-1), y_test.T.reshape(1,-1)"
   ]
  },
  {
   "cell_type": "markdown",
   "metadata": {},
   "source": [
    "### 1. 梯度下降法\n",
    "### 参数初始化"
   ]
  },
  {
   "cell_type": "code",
   "execution_count": 7,
   "metadata": {},
   "outputs": [],
   "source": [
    "def initialize_with_zeros(dim):\n",
    "    \"\"\"\n",
    "    此函数为w创建一个形状为（dim，1）的零向量，并将b初始化为0。\n",
    "    \n",
    "    输入：\n",
    "    dim -- w向量的大小 \n",
    "    \n",
    "    输出:\n",
    "    w -- 初始化的向量\n",
    "    b -- 初始化的偏差\n",
    "    \"\"\"\n",
    "    w = np.zeros((dim,1))\n",
    "    b = 0\n",
    "\n",
    "    assert(w.shape == (dim, 1))\n",
    "    assert(isinstance(b, float) or isinstance(b, int))\n",
    "    \n",
    "    return w, b"
   ]
  },
  {
   "cell_type": "markdown",
   "metadata": {},
   "source": [
    "### 计算代价函数及其梯度"
   ]
  },
  {
   "cell_type": "code",
   "execution_count": 8,
   "metadata": {},
   "outputs": [],
   "source": [
    "def propagate(w, b, X, Y):\n",
    "    \"\"\"\n",
    "    实现前向传播的代价函数及反向传播的梯度\n",
    "\n",
    "    输入:\n",
    "    w -- 权重, 一个numpy数组，大小为(特征数, 1)\n",
    "    b -- 偏差, 一个标量\n",
    "    X -- 训练数据，大小为 (特征数 , 样本数量)\n",
    "    Y -- 真实\"标签\"向量，大小为(1, 样本数量)\n",
    "\n",
    "    输出:\n",
    "    cost -- 线性回归的代价函数\n",
    "    dw -- 相对于w的损失梯度，因此与w的形状相同\n",
    "    db -- 相对于b的损失梯度，因此与b的形状相同\n",
    "    \"\"\"\n",
    "    \n",
    "    m = X.shape[1]\n",
    "    \n",
    "    # 前向传播\n",
    "    Y_hat = np.dot(w.T,X)+b\n",
    "    cost = np.dot((Y_hat - Y),(Y_hat - Y).T)/(2*m)\n",
    "    \n",
    "    # 反向传播\n",
    "    dw = np.dot(X,(Y_hat-Y).T)/m\n",
    "    db = np.sum(Y_hat-Y)/m\n",
    "\n",
    "    assert(dw.shape == w.shape)\n",
    "    assert(db.dtype == float)\n",
    "    cost = np.squeeze(cost)\n",
    "    assert(cost.shape == ())\n",
    "    \n",
    "    grads = {\"dw\": dw,\n",
    "             \"db\": db}\n",
    "    \n",
    "    return grads, cost"
   ]
  },
  {
   "cell_type": "markdown",
   "metadata": {},
   "source": [
    "### 梯度下降法优化参数"
   ]
  },
  {
   "cell_type": "code",
   "execution_count": 9,
   "metadata": {},
   "outputs": [],
   "source": [
    "def optimize(w, b, X, Y, num_iterations, learning_rate):\n",
    "    \"\"\"\n",
    "    此函数通过运行梯度下降算法来优化w和b\n",
    "    \n",
    "    输入:\n",
    "    w -- 权重, 一个numpy数组，大小为(特征数, 1)\n",
    "    b -- 偏差, 一个标量\n",
    "    X -- 训练数据，大小为 (特征数 , 样本数量)\n",
    "    Y -- 真实\"标签\"向量，大小为(1, 样本数量)\n",
    "    num_iterations -- 优化循环的迭代次数\n",
    "    learning_rate -- 梯度下降更新规则的学习率\n",
    "    print_cost -- 是否每200步打印一次成本\n",
    "    \n",
    "    输出:\n",
    "    params -- 存储权重w和偏见b的字典\n",
    "    grads -- 存储权重梯度相对于代价函数偏导数的字典\n",
    "    costs -- 在优化期间计算的所有损失的列表，这将用于绘制学习曲线。\n",
    "    \"\"\"\n",
    "    \n",
    "    costs = []\n",
    "    \n",
    "    for i in range(num_iterations):\n",
    "        \n",
    "        \n",
    "        # 成本和梯度计算\n",
    "        grads, cost = propagate(w, b, X, Y)\n",
    "        dw = grads[\"dw\"]\n",
    "        db = grads[\"db\"]\n",
    "        \n",
    "        # 更新参数\n",
    "        w = w - learning_rate * dw\n",
    "        b = b - learning_rate * db\n",
    "        \n",
    "        # 记录成本\n",
    "        if i % 200 == 0:\n",
    "            costs.append(cost)\n",
    "        \n",
    "        # 每200次训练迭代打印成本\n",
    "        if i % 200 == 0:\n",
    "            print (\"Cost after iteration %i: %f\" %(i, cost))\n",
    "    \n",
    "    params = {\"w\": w,\n",
    "              \"b\": b}\n",
    "    \n",
    "    grads = {\"dw\": dw,\n",
    "             \"db\": db}\n",
    "    \n",
    "    return params, grads, costs"
   ]
  },
  {
   "cell_type": "markdown",
   "metadata": {},
   "source": [
    "### 2. 最小二乘法"
   ]
  },
  {
   "cell_type": "code",
   "execution_count": 10,
   "metadata": {},
   "outputs": [],
   "source": [
    "def least_squares(X, Y):\n",
    "    '''\n",
    "    最小二乘法求解参数w,b\n",
    "    \n",
    "    输入:\n",
    "    X -- 训练数据，大小为 (特征数 , 样本数量)\n",
    "    Y -- 真实值向量，大小为(1, 样本数量)\n",
    "    输出：\n",
    "    w -- 权重, 一个numpy数组，大小为(特征数, 1)\n",
    "    b -- 偏差, 一个标量\n",
    "    '''\n",
    "    X = np.concatenate((X,np.ones((1,X.shape[1]))),axis=0)\n",
    "    W = np.dot(np.linalg.inv(np.dot(X,X.T)),np.dot(X,Y.T))\n",
    "    w = W[:-1]\n",
    "    b = W[-1]\n",
    "    return w, b"
   ]
  },
  {
   "cell_type": "markdown",
   "metadata": {},
   "source": [
    "### 定义预测函数"
   ]
  },
  {
   "cell_type": "code",
   "execution_count": 11,
   "metadata": {},
   "outputs": [],
   "source": [
    "def predict(w, b, X):\n",
    "    '''\n",
    "    使用线性回归参数（w，b）预测结果\n",
    "    \n",
    "    输入:\n",
    "    w -- 权重, 一个numpy数组，大小为(特征数, 1)\n",
    "    b -- 偏差, 一个标量\n",
    "    X -- 训练数据，大小为 (特征数 , 样本数量)\n",
    "    \n",
    "    输出:\n",
    "    Y_prediction -- 包含X中示例的所有预测（0/1）的numpy数组（向量）\n",
    "    '''\n",
    "    \n",
    "    m = X.shape[1]\n",
    "    Y_prediction = np.zeros((1,m))\n",
    "    w = w.reshape(X.shape[0], 1)\n",
    "    Y_prediction = np.dot(w.T,X)+b\n",
    "    \n",
    "    assert(Y_prediction.shape == (1, m))\n",
    "    \n",
    "    return Y_prediction"
   ]
  },
  {
   "cell_type": "markdown",
   "metadata": {},
   "source": [
    "### 构建线性回归模型"
   ]
  },
  {
   "cell_type": "code",
   "execution_count": 12,
   "metadata": {},
   "outputs": [],
   "source": [
    "def model(X_train, Y_train, X_test, Y_test, optimization = \"gradient descent\",num_iterations = 2000, learning_rate = 0.5):\n",
    "    \"\"\"\n",
    "    通过调用前面实现的函数来构建线性回归模型\n",
    "    \n",
    "    输入:\n",
    "    X_train -- 由numpy数组表示的训练集，大小为 (特征数，训练样本数)\n",
    "    Y_train -- 由numpy数组（向量）表示的训练标签，大小为 (1, 训练样本数)\n",
    "    X_test -- 由numpy数组表示的测试集，大小为（特征数，测试样本数）\n",
    "    Y_test -- 由numpy数组（向量）表示的测试标签，大小为 (1, 测试样本数)\n",
    "    optimization -- 选择优化方法，设为\"gradient descent\"时为梯度下降法，设为\"least squares\"时为最小二乘法。\n",
    "    num_iterations -- 超参数，表示优化参数的迭代次数\n",
    "    learning_rate -- 超参数，在优化算法更新规则中使用的学习率\n",
    "    \n",
    "    输出:\n",
    "    d -- 包含模型信息的字典。\n",
    "    \"\"\"\n",
    "    if optimization == \"gradient descent\":\n",
    "        # 初始化参数\n",
    "        w, b = initialize_with_zeros(X_train.shape[0])\n",
    "\n",
    "        # 梯度下降\n",
    "        parameters, grads, costs = optimize(w, b, X_train, Y_train, num_iterations, learning_rate)\n",
    "    \n",
    "        # 从字典“parameters”中检索参数w和b\n",
    "        w = parameters[\"w\"]\n",
    "        b = parameters[\"b\"]   \n",
    "    elif optimization == \"least squares\":\n",
    "        w, b = least_squares(X_train, Y_train)\n",
    "    else:\n",
    "        print(\"TypeError: model() got an unexpected keyword argument 'optimize'\")\n",
    "    # 预测测试/训练集\n",
    "    Y_prediction_test = predict(w, b, X_test)\n",
    "    Y_prediction_train = predict(w, b, X_train)\n",
    "\n",
    "    # 打印测试集的预测结果\n",
    "    print(\"Test data predict value : {}\".format(Y_prediction_test))\n",
    "    print(\"The test data true value: {}\".format(Y_test))\n",
    "    \n",
    "    d = {\"Y_prediction_test\": Y_prediction_test,\n",
    "         \"Y_prediction_train\" : Y_prediction_train, \n",
    "         \"w\" : w, \n",
    "         \"b\" : b,\n",
    "         \"learning_rate\" : learning_rate,\n",
    "         \"num_iterations\": num_iterations}\n",
    "    return d"
   ]
  },
  {
   "cell_type": "markdown",
   "metadata": {},
   "source": [
    "### 模型训练与测试"
   ]
  },
  {
   "cell_type": "code",
   "execution_count": 13,
   "metadata": {},
   "outputs": [
    {
     "name": "stdout",
     "output_type": "stream",
     "text": [
      "Test data predict value : [[16.84472176 33.74557494 75.50062397 26.7864001  60.58810646 39.71058194\n",
      "  20.8213931 ]]\n",
      "The test data true value: [[20. 27. 69. 30. 62. 35. 24.]]\n"
     ]
    }
   ],
   "source": [
    "d_simple = model(X_train, y_train, X_test, y_test, optimization = \"least squares\")"
   ]
  },
  {
   "cell_type": "markdown",
   "metadata": {},
   "source": [
    "### 训练集结果可视化"
   ]
  },
  {
   "cell_type": "code",
   "execution_count": 14,
   "metadata": {},
   "outputs": [
    {
     "data": {
      "image/png": "[encoded data removed]",
      "text/plain": [
       "<matplotlib.figure.Figure at 0x1db0dafe748>"
      ]
     },
     "metadata": {},
     "output_type": "display_data"
    }
   ],
   "source": [
    "plt.scatter(np.squeeze(X_train), np.squeeze(y_train), color = 'red')\n",
    "plt.plot(np.squeeze(X_train), np.squeeze(d_simple[\"Y_prediction_train\"]), color ='blue')\n",
    "plt.show()"
   ]
  },
  {
   "cell_type": "markdown",
   "metadata": {},
   "source": [
    "### 测试集结果可视化"
   ]
  },
  {
   "cell_type": "code",
   "execution_count": 15,
   "metadata": {},
   "outputs": [
    {
     "data": {
      "image/png": "[encoded data removed]",
      "text/plain": [
       "<matplotlib.figure.Figure at 0x1db0e22e588>"
      ]
     },
     "metadata": {},
     "output_type": "display_data"
    }
   ],
   "source": [
    "plt.scatter(np.squeeze(X_test), np.squeeze(y_test), color = 'red')\n",
    "plt.plot(np.squeeze(X_test), np.squeeze(d_simple[\"Y_prediction_test\"]), color ='blue')\n",
    "plt.show()"
   ]
  },
  {
   "cell_type": "markdown",
   "metadata": {},
   "source": [
    "## 构建多元线性回归模型分析数据"
   ]
  },
  {
   "cell_type": "markdown",
   "metadata": {},
   "source": [
    "### 导入数据集\n",
    "**数据集介绍：**  \n",
    "该数据集共50个数据项，特征分别为：R&D Spend(研发花费)，Administration(管理经费)，Marketing Spend(市场花费)，state(州)。要预测的内容为Profit(盈利)。\n",
    "**查看数据集前5行**"
   ]
  },
  {
   "cell_type": "code",
   "execution_count": 16,
   "metadata": {},
   "outputs": [
    {
     "data": {
      "text/html": [
       "<div>\n",
       "<style scoped>\n",
       "    .dataframe tbody tr th:only-of-type {\n",
       "        vertical-align: middle;\n",
       "    }\n",
       "\n",
       "    .dataframe tbody tr th {\n",
       "        vertical-align: top;\n",
       "    }\n",
       "\n",
       "    .dataframe thead th {\n",
       "        text-align: right;\n",
       "    }\n",
       "</style>\n",
       "<table border=\"1\" class=\"dataframe\">\n",
       "  <thead>\n",
       "    <tr style=\"text-align: right;\">\n",
       "      <th></th>\n",
       "      <th>R&amp;D Spend</th>\n",
       "      <th>Administration</th>\n",
       "      <th>Marketing Spend</th>\n",
       "      <th>State</th>\n",
       "      <th>Profit</th>\n",
       "    </tr>\n",
       "  </thead>\n",
       "  <tbody>\n",
       "    <tr>\n",
       "      <th>0</th>\n",
       "      <td>165349.20</td>\n",
       "      <td>136897.80</td>\n",
       "      <td>471784.10</td>\n",
       "      <td>New York</td>\n",
       "      <td>192261.83</td>\n",
       "    </tr>\n",
       "    <tr>\n",
       "      <th>1</th>\n",
       "      <td>162597.70</td>\n",
       "      <td>151377.59</td>\n",
       "      <td>443898.53</td>\n",
       "      <td>California</td>\n",
       "      <td>191792.06</td>\n",
       "    </tr>\n",
       "    <tr>\n",
       "      <th>2</th>\n",
       "      <td>153441.51</td>\n",
       "      <td>101145.55</td>\n",
       "      <td>407934.54</td>\n",
       "      <td>Florida</td>\n",
       "      <td>191050.39</td>\n",
       "    </tr>\n",
       "    <tr>\n",
       "      <th>3</th>\n",
       "      <td>144372.41</td>\n",
       "      <td>118671.85</td>\n",
       "      <td>383199.62</td>\n",
       "      <td>New York</td>\n",
       "      <td>182901.99</td>\n",
       "    </tr>\n",
       "    <tr>\n",
       "      <th>4</th>\n",
       "      <td>142107.34</td>\n",
       "      <td>91391.77</td>\n",
       "      <td>366168.42</td>\n",
       "      <td>Florida</td>\n",
       "      <td>166187.94</td>\n",
       "    </tr>\n",
       "  </tbody>\n",
       "</table>\n",
       "</div>"
      ],
      "text/plain": [
       "   R&D Spend  Administration  Marketing Spend       State     Profit\n",
       "0  165349.20       136897.80        471784.10    New York  192261.83\n",
       "1  162597.70       151377.59        443898.53  California  191792.06\n",
       "2  153441.51       101145.55        407934.54     Florida  191050.39\n",
       "3  144372.41       118671.85        383199.62    New York  182901.99\n",
       "4  142107.34        91391.77        366168.42     Florida  166187.94"
      ]
     },
     "execution_count": 16,
     "metadata": {},
     "output_type": "execute_result"
    }
   ],
   "source": [
    "dataset = pd.read_csv('datasets/50_Startups.csv')\n",
    "dataset.head()"
   ]
  },
  {
   "cell_type": "code",
   "execution_count": 17,
   "metadata": {},
   "outputs": [],
   "source": [
    "def load_dataset():\n",
    "    data = np.loadtxt(\"datasets/50_Startups.csv\", dtype=np.str, delimiter=\",\")\n",
    "    X_train = data[1:,:3].astype(np.float)\n",
    "    X_dummy = data[1:,3]\n",
    "    y_train = data[1:,-1].astype(np.float)\n",
    "    return X_train, X_dummy, y_train"
   ]
  },
  {
   "cell_type": "code",
   "execution_count": 18,
   "metadata": {},
   "outputs": [],
   "source": [
    "train_X, X_dummy, train_y = load_dataset()"
   ]
  },
  {
   "cell_type": "markdown",
   "metadata": {},
   "source": [
    "### 使用分类数据方法处理虚拟变量"
   ]
  },
  {
   "cell_type": "code",
   "execution_count": 19,
   "metadata": {},
   "outputs": [],
   "source": [
    "def dummy_variable(X):\n",
    "    '''\n",
    "    输入：\n",
    "    X -- 虚拟变量\n",
    "    输出：\n",
    "    set_dummy -- 使用分类数据方法处理虚拟变量后的数组\n",
    "    '''\n",
    "    num_dummy = len(set(X))\n",
    "    set_dummy = np.zeros((X.shape[0],num_dummy))\n",
    "    for i in range(num_dummy):\n",
    "        set_dummy[:,i][np.where(X==list(set(X))[i])] = 1.\n",
    "    return set_dummy"
   ]
  },
  {
   "cell_type": "code",
   "execution_count": 20,
   "metadata": {},
   "outputs": [],
   "source": [
    "set_dummy = dummy_variable(X_dummy)  \n",
    "train_set_x = np.concatenate((train_X,set_dummy),axis = 1)"
   ]
  },
  {
   "cell_type": "markdown",
   "metadata": {},
   "source": [
    "### 躲避虚拟变量陷阱"
   ]
  },
  {
   "cell_type": "code",
   "execution_count": 21,
   "metadata": {},
   "outputs": [],
   "source": [
    "train_set_x = train_set_x[:,:-1]"
   ]
  },
  {
   "cell_type": "markdown",
   "metadata": {},
   "source": [
    "### 数据归一化处理"
   ]
  },
  {
   "cell_type": "code",
   "execution_count": 22,
   "metadata": {},
   "outputs": [],
   "source": [
    "def normalization(X):\n",
    "    '''\n",
    "    输入：\n",
    "    X -- 训练数据，大小为(特征数, 样本数量)\n",
    "    输出：\n",
    "    X -- 归一化后的训练数据，大小为(特征数, 样本数量)\n",
    "    x_max -- 原训练数据中每类特征的最大值\n",
    "    x_min -- 原训练数据中每类特征的最小值\n",
    "    ''' \n",
    "    x_max = np.max(X,axis=0,keepdims=True)\n",
    "    x_min = np.min(X,axis=0,keepdims=True)\n",
    "    X = (X - x_min)/(x_max - x_min)\n",
    "    return X,x_max,x_min"
   ]
  },
  {
   "cell_type": "code",
   "execution_count": 23,
   "metadata": {},
   "outputs": [],
   "source": [
    "train_set_x,x_max,x_min = normalization(train_set_x)"
   ]
  },
  {
   "cell_type": "markdown",
   "metadata": {},
   "source": [
    "### 拆分数据集为训练集和测试集"
   ]
  },
  {
   "cell_type": "code",
   "execution_count": 24,
   "metadata": {},
   "outputs": [],
   "source": [
    "train_set_x, test_set_x, train_set_y, test_set_y = train_test_split(train_set_x, train_y, test_size = 0.2, random_state = 0)"
   ]
  },
  {
   "cell_type": "markdown",
   "metadata": {},
   "source": [
    "### 将数据集转换为矢量"
   ]
  },
  {
   "cell_type": "code",
   "execution_count": 25,
   "metadata": {},
   "outputs": [],
   "source": [
    "train_set_x, train_set_y = train_set_x.T, train_set_y.T.reshape(1,-1)\n",
    "test_set_x, test_set_y = test_set_x.T, test_set_y.T.reshape(1,-1)"
   ]
  },
  {
   "cell_type": "markdown",
   "metadata": {},
   "source": [
    "### 模型训练与测试\n",
    "#### 使用最小二乘法"
   ]
  },
  {
   "cell_type": "code",
   "execution_count": 26,
   "metadata": {},
   "outputs": [
    {
     "name": "stdout",
     "output_type": "stream",
     "text": [
      "Test data predict value : [[103015.20159796 132582.27760816 132447.73845174  71976.09851258\n",
      "  178537.48221055 116161.24230165  67851.69209676  98791.73374687\n",
      "  113969.43533012 167921.0656955 ]]\n",
      "The test data true value: [[103282.38 144259.4  146121.95  77798.83 191050.39 105008.31  81229.06\n",
      "   97483.56 110352.25 166187.94]]\n"
     ]
    }
   ],
   "source": [
    "d_multiple1 = model(train_set_x, train_set_y, test_set_x, test_set_y, optimization = \"least squares\")"
   ]
  },
  {
   "cell_type": "markdown",
   "metadata": {},
   "source": [
    "#### 使用梯度下降法"
   ]
  },
  {
   "cell_type": "code",
   "execution_count": 27,
   "metadata": {},
   "outputs": [
    {
     "name": "stdout",
     "output_type": "stream",
     "text": [
      "Cost after iteration 0: 6807997862.101883\n",
      "Cost after iteration 200: 43371803.699051\n",
      "Cost after iteration 400: 40947393.054603\n",
      "Cost after iteration 600: 40795651.773923\n",
      "Cost after iteration 800: 40786137.392499\n",
      "Cost after iteration 1000: 40785540.810488\n",
      "Cost after iteration 1200: 40785503.402879\n",
      "Cost after iteration 1400: 40785501.057301\n",
      "Cost after iteration 1600: 40785500.910226\n",
      "Cost after iteration 1800: 40785500.901004\n",
      "Cost after iteration 2000: 40785500.900426\n",
      "Cost after iteration 2200: 40785500.900389\n",
      "Cost after iteration 2400: 40785500.900387\n",
      "Cost after iteration 2600: 40785500.900387\n",
      "Cost after iteration 2800: 40785500.900387\n",
      "Test data predict value : [[103015.20160276 132582.27759601 132447.7384391   71976.09850775\n",
      "  178537.48219813 116161.24231955  67851.69209773  98791.73374919\n",
      "  113969.43533513 167921.06567985]]\n",
      "The test data true value: [[103282.38 144259.4  146121.95  77798.83 191050.39 105008.31  81229.06\n",
      "   97483.56 110352.25 166187.94]]\n"
     ]
    }
   ],
   "source": [
    "d_multiple2 = model(train_set_x, train_set_y, test_set_x, test_set_y, optimization = \"gradient descent\", num_iterations = 3000, learning_rate = 0.5)"
   ]
  }
 ],
 "metadata": {
  "kernelspec": {
   "display_name": "Python 3",
   "language": "python",
   "name": "python3"
  },
  "language_info": {
   "codemirror_mode": {
    "name": "ipython",
    "version": 3
   },
   "file_extension": ".py",
   "mimetype": "text/x-python",
   "name": "python",
   "nbconvert_exporter": "python",
   "pygments_lexer": "ipython3",
   "version": "3.6.4"
  }
 },
 "nbformat": 4,
 "nbformat_minor": 2
}
